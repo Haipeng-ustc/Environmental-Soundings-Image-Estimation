{
  "cells": [
    {
      "cell_type": "markdown",
      "metadata": {
        "colab_type": "text",
        "id": "view-in-github"
      },
      "source": [
        "<a href=\"https://colab.research.google.com/github/minjun1/realnvp_seismic/blob/main/notebook_up.ipynb\" target=\"_parent\"><img src=\"https://colab.research.google.com/assets/colab-badge.svg\" alt=\"Open In Colab\"/></a>"
      ]
    },
    {
      "cell_type": "markdown",
      "metadata": {
        "id": "MYh0FutcQzeP"
      },
      "source": [
        "# Lab 1 - Normal Moveout"
      ]
    },
    {
      "cell_type": "code",
      "execution_count": null,
      "metadata": {
        "colab": {
          "base_uri": "https://localhost:8080/"
        },
        "id": "KpGq3KMfQzeP",
        "outputId": "e2cafd8f-c399-45b4-a94d-5321a3c2ebcd"
      },
      "outputs": [],
      "source": [
        "!python -m pip install \"sep-plot @ git+http://zapad.stanford.edu/bob/pySepPlot.git@fe0395fd514f6aac60b1c696c0ee99ca42c3ad89\""
      ]
    },
    {
      "cell_type": "markdown",
      "metadata": {
        "id": "zuIKPHLAQzeQ"
      },
      "source": [
        "## Abstract\n",
        "\n",
        "We will look at the normal moveout (NMO) operator and examine its implementation. You will code the forward operator with linear interpolation to create the dataset. You will then code the adjoint operator and run the dot product test. Finally, you will run two least squares optimizations using two different steppers and analyze the results."
      ]
    },
    {
      "cell_type": "markdown",
      "metadata": {
        "id": "S15TrU27QzeQ"
      },
      "source": [
        "## Normal moveout operator\n",
        "\n",
        "The NMO operator is an example of a summation transform operator. This operator approximates the reflection travel time given the medium velocity above a reflector in a 1D Earth. In this operator the model space axes are intercept time (analogous to traveltime depth) and slowness, whereas the data space axes are time and offset. The mapping equation can be written as:\n",
        "\\begin{equation}\\label{eq:nmo}\n",
        "  t = \\sqrt{s^2 x^2 + \\tau^2},\n",
        "\\end{equation}\n",
        "where $t$ is time, $s$ is slowness, $x$ is offset and $\\tau$ is intercept time. The operator loops over $s$, $x$, $\\tau$, and computes $t$. Note that the computed time often falls between the samples of the time axis. Therefore, interpolating the values can increase the accuracy of the operator.\n",
        "\n",
        "This operator is your most basic imaging operator (it is also known as a beamformer or hyperbolic radon transform). For this lab, we will see that the application of the forward of this operator maps spikes defined in the $s$ and $\\tau$ domain to hyperbolas in the $t$ and $x$ domain.\n",
        "\n",
        "One final thing to note is that for all plots below we have replaced $\\tau$ with $z$ on the vertical axis. So instead of seeing a $\\tau$-$s$ space, you will see a $z$-$s$ space."
      ]
    },
    {
      "cell_type": "markdown",
      "metadata": {
        "id": "5h9p8UItQzeQ"
      },
      "source": [
        "## Your assignment\n",
        "\n",
        "In this lab you will be solving your first inverse problem. You will first write the code for the forward and the adjoint of the NMO operator as described above. Then, you will apply both the forward and the adjoint operator and examine their outputs. Additionally, you will need to make sure that your operator passes the dot product test. \n",
        "\n",
        "Finally, you will run two inversions with different inversion algorithms. One you will run with the steepest descent algorithm and the other with a conjugate gradient algorithm."
      ]
    },
    {
      "cell_type": "markdown",
      "metadata": {
        "id": "XiAKQ36AQzeQ"
      },
      "source": [
        "### Code skeleton\n",
        "\n",
        "In the cell below, we have provided the majority of the code necessary for completing the implementation of the NMO operator. As described above, your main task will be to complete the two functions at the bottom of this cell that implement the forward and adjoint of this operator."
      ]
    },
    {
      "cell_type": "code",
      "execution_count": null,
      "metadata": {
        "colab": {
          "base_uri": "https://localhost:8080/"
        },
        "id": "pNMAcNRZQzeR",
        "outputId": "4be1ee48-f45e-4518-b32b-c72bc5d18bf2"
      },
      "outputs": [],
      "source": [
        "from genericSolver.pyOperator import Operator as operator\n",
        "from genericSolver.pyVector  import vector\n",
        "from numba import jit, int32, float32\n",
        "import numpy as np\n",
        "\n",
        "class slow(operator):\n",
        "    \"\"\"\n",
        "    2D slowness operator that maps spikes in slowness and depth\n",
        "    to hyperbolas in time and space\n",
        "    \"\"\"\n",
        "\n",
        "    def __init__(self, dom, rng):\n",
        "        \"\"\"\n",
        "        Initialize operator and saves the space of the operator\n",
        "        \"\"\"\n",
        "        if not isinstance(dom,vector):\n",
        "          raise Exception(\"Expecting domain to be a python vector\")\n",
        "\n",
        "        if not isinstance(rng,vector):\n",
        "          raise Exception(\"Expecting range to be a python vector\")\n",
        "\n",
        "        # Store the vector space of the domain and range\n",
        "        super().__init__(dom,rng)\n",
        "        \n",
        "        # Get model axes\n",
        "        zaxis = dom.get_hyper().get_axis(1)\n",
        "        qaxis = dom.get_hyper().get_axis(2)\n",
        "        # Get data axes\n",
        "        taxis = rng.get_hyper().get_axis(1)\n",
        "        xaxis = rng.get_hyper().get_axis(2)\n",
        "\n",
        "        # Get model dimensions\n",
        "        self._oq = qaxis.o; self._dq = qaxis.d\n",
        "        self._oz = zaxis.o; self._dz = zaxis.d\n",
        "        # Get data dimensions\n",
        "        self._ox = xaxis.o; self._dx = xaxis.d\n",
        "        self._ot = taxis.o; self._dt = taxis.d\n",
        "\n",
        "    def forward(self,add,modl,data):\n",
        "        \"\"\"\n",
        "        Applies the forward operator:\n",
        "        Spikes in depth-slowness to hyperbolas in time-space\n",
        "\n",
        "        Parameters:\n",
        "          add - boolean whether or not add to the data vector or zero it first\n",
        "          modl - slowness model (s,z)\n",
        "          data - hyperbolas (t,x)\n",
        "        \"\"\"\n",
        "        print(type(modl),type(self.domain),\"CHECK\")\n",
        "        self.checkDomainRange(modl,data)\n",
        "\n",
        "        # Zero the data if add == false\n",
        "        if not add:\n",
        "            data.zero()\n",
        "\n",
        "        forward2D_1(self._oq,self._dq,\n",
        "                    self._oz,self._dz,\n",
        "                    self._ox,self._dx,\n",
        "                    self._ot,self._dt,\n",
        "                    modl.get_nd_array(),data.get_nd_array())\n",
        "\n",
        "    def adjoint(self,add,modl,data):\n",
        "        \"\"\"\n",
        "        Applies the adjoint operator:\n",
        "        Hyperbolas in time-space to spikes in depth-slowness\n",
        "\n",
        "        Parameters:\n",
        "          add - boolean whether or not to add the model vector or zero it first\n",
        "          modl - slowness model (s,z)\n",
        "          data - hyperbolas (t,x)\n",
        "        \"\"\"\n",
        "\n",
        "        if not add:\n",
        "            modl.zero()\n",
        "\n",
        "        adjoint2D_1(self._oq,self._dq,\n",
        "                    self._oz,self._dz,\n",
        "                    self._ox,self._dx,\n",
        "                    self._ot,self._dt,\n",
        "                    modl.get_nd_array(),data.get_nd_array())\n",
        "\n",
        "####### Please complete the two functions below #######\n",
        "@jit(nopython=True)\n",
        "def forward2D_1(oq,dq,oz,dz,ox,dx,ot,dt,modl,data):\n",
        "    #TODO: implement forward operator\n",
        "    pass\n",
        "\n",
        "@jit(nopython=True)\n",
        "def adjoint2D_1(oq,dq,oz,dz,ox,dx,ot,dt,modl,data):\n",
        "    #TODO: implement adjoint operator\n",
        "    pass"
      ]
    },
    {
      "cell_type": "markdown",
      "metadata": {
        "id": "lPMcQFQXQzeS"
      },
      "source": [
        "### Testing the forward operator\n",
        "\n",
        "With your code now complete, lets first test the forward operator. We can do this by looking at the application of our operator to some impulses. The following cell creates four impulses that indicate events of different slowness that originated at different depths."
      ]
    },
    {
      "cell_type": "code",
      "execution_count": null,
      "metadata": {
        "colab": {
          "base_uri": "https://localhost:8080/",
          "height": 42
        },
        "id": "ESbj7FhNQzeS",
        "outputId": "4765e0b9-1399-4151-ad9c-7d3855b8a81c"
      },
      "outputs": [],
      "source": [
        "from sep_plot import Grey\n",
        "from sep_python.hypercube import Hypercube, Axis\n",
        "import sep_python.modes    #Import SEP python module\n",
        "io=sep_python.modes.default_io  #Get default IO that expects SEPlib datasets and uses sepVectors\n",
        "\n",
        "#Create model space\n",
        "modt=io.get_reg_vector(Hypercube.set_with_ns(ns=[101,101], ds=[0.04,0.004],os=[0.0,0.2]))\n",
        "modv = modt.get_nd_array()\n",
        "\n",
        "modv[75][20]=1.\n",
        "modv[60][40]=1\n",
        "modv[50][60]=1\n",
        "modv[40][80]=1"
      ]
    },
    {
      "cell_type": "code",
      "execution_count": null,
      "metadata": {
        "colab": {
          "base_uri": "https://localhost:8080/",
          "height": 727
        },
        "id": "ebxxhczEcb6g",
        "outputId": "ec1921c7-9edc-4de4-df4a-52cd7a6c27bc"
      },
      "outputs": [],
      "source": [
        "import holoviews as hv \n",
        "hv.extension('bokeh','matplotlib')\n",
        "\n",
        "grey=Grey(modt,label1=\"z\",label2=\"s\",bclip=-0.5,eclip=0.5,height=700,width=500,invert_yaxis=True,colorbar=True)\n",
        "grey.image()"
      ]
    },
    {
      "cell_type": "markdown",
      "metadata": {
        "id": "EPBDqz-1QzeS"
      },
      "source": [
        "In the following cell we will apply the forward to the input impulses to see if it produces hyperbolas:"
      ]
    },
    {
      "cell_type": "code",
      "execution_count": null,
      "metadata": {
        "colab": {
          "base_uri": "https://localhost:8080/",
          "height": 744
        },
        "id": "kQf3392vQzeS",
        "outputId": "6a381a62-2768-43b3-e015-f53cc903d7ce"
      },
      "outputs": [],
      "source": [
        "# Create data\n",
        "dat = io.get_reg_vector(Hypercube.set_with_ns(ns=[101,101], ds=[0.04,0.1], os=[0.0,-5]))\n",
        "op = slow(modt,dat)\n",
        "\n",
        "# Apply the forward\n",
        "op.forward(False,modt,dat)\n",
        "\n",
        "hv.extension('bokeh','matplotlib')\n",
        "grey=Grey(dat,label1=\"t\",label2=\"x\",height=700,width=500,invert_yaxis=True,colorbar=True)\n",
        "grey.image()"
      ]
    },
    {
      "cell_type": "markdown",
      "metadata": {
        "id": "VbZZh2wSQzeT"
      },
      "source": [
        "If you see four hyperbolas, good chances are you have written code for the forward operator correctly. "
      ]
    },
    {
      "cell_type": "markdown",
      "metadata": {
        "id": "qzPsRv8GQzeT"
      },
      "source": [
        "### Testing the adjoint operator\n",
        "Next you need to check if you have the correct adjoint of the forward operator. We will do this by running the dot product test. If running the following cell does not cause an error then you have correctly implemented the adjoint of your forward operator."
      ]
    },
    {
      "cell_type": "code",
      "execution_count": null,
      "metadata": {
        "colab": {
          "base_uri": "https://localhost:8080/",
          "height": 433
        },
        "id": "9g0C2Ya5QzeT",
        "outputId": "10895507-e3bd-4fa5-8870-0d02bd76de0e"
      },
      "outputs": [],
      "source": [
        "op.dotTest(verbose=True)"
      ]
    },
    {
      "cell_type": "markdown",
      "metadata": {
        "id": "V_Yhj2wZQzeT"
      },
      "source": [
        "Now let's examine the output of the adjoint when applied to the modeled data from the application of the forward. First we clone the space of the spike model to create our output image"
      ]
    },
    {
      "cell_type": "code",
      "execution_count": null,
      "metadata": {
        "id": "h4ePVeYFQzeT",
        "outputId": "dfbc55e1-7d3a-4e0f-c121-18063a10eb78"
      },
      "outputs": [],
      "source": [
        "adj = modt.clone()\n",
        "adj.zero()\n",
        "\n",
        "op.adjoint(False,adj,dat)\n",
        "\n",
        "grey=Grey(adj,label1=\"z\",label2=\"s\",height=700,width=500,invert_yaxis=True,colorbar=True)\n",
        "grey.image()"
      ]
    },
    {
      "cell_type": "markdown",
      "metadata": {
        "id": "MzjT1C2_QzeT"
      },
      "source": [
        " Take some time to examine the output and answer the following questions:\n",
        " 1. **Is this adjoint a good approximation to the inverse?**\n",
        " 2. **Although the four spikes were similar in the true model, they are different in the adjoint results. What are the differences? What caused those differences?**\n",
        " 3. **In a real situation in which we do not have knowledge of the true model, we can only measure the accuracy of the results in data space. Apply the forward operator on the adjoint model and plot the reconstructed data. How does this data compare to the observed data (be elaborate)?**"
      ]
    },
    {
      "cell_type": "markdown",
      "metadata": {
        "id": "bFY-qLM4QzeT"
      },
      "source": [
        "### Steepest descent and conjugate gradient inversions\n",
        "\n",
        "In this last section of the lab, you will now attempt to compute the least-squares inverse of the NMO operator. We will do so iteratively using both the steepest-descent and conjugate gradient iterative algorithms. We will then compare the outputs of each."
      ]
    },
    {
      "cell_type": "markdown",
      "metadata": {
        "id": "KMVAayzbQzeT"
      },
      "source": [
        "#### Steepest descent\n",
        "The following cell has all of the code necessary for you to run a steepest descent inversion. Just as a review/outline of the code, it works as follows:\n",
        "\n",
        "  1. Object creation. The code first creates three objects necessary for running the inversion. \n",
        "       1. *Problem object*. This is the main class for defining the inversion problem we desire to solve. Among other things, this object knows how to compute our objective function and its gradient which are necessary for the gradient-based inversion.\n",
        "       2. *Stopper object*. This object determines the stopping criteria which will be used for terminating the inversion. In this case we desire to run the inversion for only 20 iterations\n",
        "       3. *Solver object*. This object use both the problem and the stopper to run the gradient-based inversion.\n",
        "     \n",
        "  2. Next we run the inversion by passing the problem object to the solver object which uses the defined gradient functions and objective function evaluation functions to perform the iterative optimization.\n",
        "  \n",
        "  3. Finally, we get the results from the problem object as it contains all of the  inversion variables"
      ]
    },
    {
      "cell_type": "code",
      "execution_count": null,
      "metadata": {
        "colab": {
          "base_uri": "https://localhost:8080/",
          "height": 225
        },
        "id": "DcnUiI6dQzeT",
        "outputId": "72e56e7a-b0bf-48d7-8b8a-6fe6e77c894e"
      },
      "outputs": [],
      "source": [
        "from genericSolver.pyProblem import ProblemL2Linear as problem \n",
        "from genericSolver.pyLinearSolver import LCGsolver\n",
        "from genericSolver.pyStopper import BasicStopper as stopper\n",
        "# Create inversion objects\n",
        "modt.zero()\n",
        "probsd = problem(modt,dat,op)\n",
        "niterStopper = stopper(niter=20)\n",
        "sd = LCGsolver(niterStopper,steepest=True)\n",
        "\n",
        "# Run the inversion\n",
        "sd.run(probsd,verbose=True)\n",
        "sdOut=probsd.model\n",
        "\n",
        "grey=Grey(sdOut,label1=\"z\",label2=\"s\",bclip=-0.09,eclip=0.09,height=700,width=500,invert_yaxis=True,colorbar=True)\n",
        "grey.image()"
      ]
    },
    {
      "cell_type": "markdown",
      "metadata": {
        "id": "mQivyun_QzeU"
      },
      "source": [
        "#### Conjugate gradient\n",
        "Finally, we run the same inversion problem but with a conjugate gradient solver"
      ]
    },
    {
      "cell_type": "code",
      "execution_count": null,
      "metadata": {
        "colab": {
          "base_uri": "https://localhost:8080/",
          "height": 225
        },
        "id": "IK0gi3ReQzeU",
        "outputId": "f9d327dc-16a1-4d4f-8a17-6e7b58960ee7"
      },
      "outputs": [],
      "source": [
        "modt.zero()\n",
        "probcg = problem(modt,dat,op)\n",
        "niterStopper = stopper(niter=20)\n",
        "cg = LCGsolver(niterStopper,steepest=False)\n",
        "\n",
        "cg.run(probcg,verbose=True)\n",
        "cgOut = probcg.model\n",
        "\n",
        "grey=Grey(cgOut,label1=\"z\",label2=\"s\",bclip=-0.09,eclip=0.09,height=700,width=500,invert_yaxis=True,colorbar=True)\n",
        "grey.image()"
      ]
    },
    {
      "cell_type": "markdown",
      "metadata": {
        "id": "zyfeWSDkQzeU"
      },
      "source": [
        "**Compute and plot the residual of each optimization by subtracting the reconstructed data from the observed data. Without considering their power, which residual indicates better convergence? Why?**\n"
      ]
    }
  ],
  "metadata": {
    "colab": {
      "include_colab_link": true,
      "provenance": []
    },
    "kernelspec": {
      "display_name": "Python 3 (ipykernel)",
      "language": "python",
      "name": "python3"
    },
    "language_info": {
      "codemirror_mode": {
        "name": "ipython",
        "version": 3
      },
      "file_extension": ".py",
      "mimetype": "text/x-python",
      "name": "python",
      "nbconvert_exporter": "python",
      "pygments_lexer": "ipython3",
      "version": "3.10.8"
    }
  },
  "nbformat": 4,
  "nbformat_minor": 0
}
