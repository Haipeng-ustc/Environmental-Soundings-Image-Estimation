{
 "cells": [
  {
   "cell_type": "code",
   "execution_count": null,
   "metadata": {},
   "outputs": [],
   "source": [
    "class solver:\n",
    "    def __init__(self, lop:myOperator, m0:myVector, d:myVector):\n",
    "        self._lop = lop\n",
    "        self._m0 = m0\n",
    "        self._d = d\n",
    "    \n",
    "    def getDmodel(self, d:myVector):\n",
    "        return NotImplementedError(\"getDmodel() not implemented\")\n",
    "    \n",
    "    def iterate(self, niter:int) -> myVector:\n",
    "        res = self._d.clone() # r = d\n",
    "        res.scale(-1.)        # r = -d\n",
    "        dm = self._m0.clone() # dm = m0\n",
    "        rr = res.clone()      # rr = r\n",
    "        self._lop.forward(True, self._d, res)   # -d + L m0\n",
    "        mod = self._m0.clone() # mod = m0\n",
    "\n",
    "        for i in range(niter):\n",
    "            self.getDmodel(dm)\n",
    "\n",
    "            self._lop.forward(False, dm, rr) # L dm\n",
    "\n",
    "            top = res.dot(rr) # top = r^T (L dm)\n",
    "            bot = rr.dot(rr)  # bot = (L dm)^T (L dm)\n",
    "            alpha = -top / (bot + 1.e-10)    # alpha = r^T r / (L dm)^T (L dm)\n",
    "\n",
    "            mod.scaleAdd(dm, scale2 = alpha)          # mod = mod + alpha * dm\n",
    "            res.scaleAdd(rr, scale2 = alpha)          # r = r - alpha * (L dm)\n",
    "\n",
    "\n",
    "# version 1: use a random model update\n",
    "class randomSolver(solver):\n",
    "    def __init__(self, lop:myOperator, m0:myVector, d:myVector):\n",
    "        super().__init__(lop, m0, d)\n",
    "    \n",
    "    def getDmodel(self, dm:myVector):\n",
    "        dm.random()\n",
    "\n",
    "\n",
    "\n",
    "# version 2: use a adjoint model update\n",
    "\n",
    "\n",
    "# vector, operator, solver, and problem classes"
   ]
  }
 ],
 "metadata": {
  "kernelspec": {
   "display_name": "base",
   "language": "python",
   "name": "python3"
  },
  "language_info": {
   "name": "python",
   "version": "3.9.13 (main, Oct 13 2022, 16:12:30) \n[Clang 12.0.0 ]"
  },
  "orig_nbformat": 4,
  "vscode": {
   "interpreter": {
    "hash": "b31d7b6afb0f0a81109fdeb5bc8c039e956ddb6915815bb12120743a932056ae"
   }
  }
 },
 "nbformat": 4,
 "nbformat_minor": 2
}
